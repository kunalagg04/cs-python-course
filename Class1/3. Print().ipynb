{
 "cells": [
  {
   "cell_type": "markdown",
   "metadata": {},
   "source": [
    "# Let's write our first \"Hello world!\" program :-)\n",
    "Printing out stuff in python ."
   ]
  },
  {
   "cell_type": "code",
   "execution_count": 6,
   "metadata": {},
   "outputs": [
    {
     "name": "stdout",
     "output_type": "stream",
     "text": [
      "Hello World!\n"
     ]
    }
   ],
   "source": [
    "# Python 3.x program showing \n",
    "# how to print data on \n",
    "# a screen \n",
    "  \n",
    "# One object is passed \n",
    "print(\"Hello World!\") \n",
    "  "
   ]
  },
  {
   "cell_type": "markdown",
   "metadata": {},
   "source": [
    "#### String is always enclosed between quotes (\" \") "
   ]
  },
  {
   "cell_type": "code",
   "execution_count": 8,
   "metadata": {},
   "outputs": [
    {
     "name": "stdout",
     "output_type": "stream",
     "text": [
      "x = 5\n"
     ]
    }
   ],
   "source": [
    "x=5\n",
    "# Two objects are passed ( A STRING AND A VARIABLE)\n",
    "print(\"x =\", x) "
   ]
  },
  {
   "cell_type": "markdown",
   "metadata": {},
   "source": [
    "#### Note : Using comma (,) inserts softspace !"
   ]
  },
  {
   "cell_type": "code",
   "execution_count": 5,
   "metadata": {},
   "outputs": [
    {
     "name": "stdout",
     "output_type": "stream",
     "text": [
      "abc\n"
     ]
    }
   ],
   "source": [
    "# code for disabling the softspace feature  \n",
    "print('a', 'b', 'c', sep ='') "
   ]
  },
  {
   "cell_type": "code",
   "execution_count": 7,
   "metadata": {},
   "outputs": [
    {
     "name": "stdout",
     "output_type": "stream",
     "text": [
      "Hi\n",
      "Bye\n"
     ]
    }
   ],
   "source": [
    "#Using two print statements:\n",
    "\n",
    "print(\"Hi\")\n",
    "print(\"Bye\")"
   ]
  },
  {
   "cell_type": "markdown",
   "metadata": {},
   "source": [
    "#### As you saw above , python itself starts new print statement from new line unlike other languages like C/C++/JAVA\n",
    "## end parameter in print() can be used if we don't want print() statement to end with new line."
   ]
  },
  {
   "cell_type": "code",
   "execution_count": 14,
   "metadata": {},
   "outputs": [
    {
     "name": "stdout",
     "output_type": "stream",
     "text": [
      "Welcome to Coding Shastra\n"
     ]
    }
   ],
   "source": [
    "# ends the output with a <space>  \n",
    "print(\"Welcome to\" , end = ' ')  \n",
    "print(\"Coding Shastra\") "
   ]
  },
  {
   "cell_type": "code",
   "execution_count": 15,
   "metadata": {},
   "outputs": [
    {
     "name": "stdout",
     "output_type": "stream",
     "text": [
      "Python@CodingShastra\n"
     ]
    }
   ],
   "source": [
    "# ends the output with a @  \n",
    "print(\"Python\" , end = '@')  \n",
    "print(\"CodingShastra\") "
   ]
  },
  {
   "cell_type": "markdown",
   "metadata": {},
   "source": [
    "## sep parameter in print()"
   ]
  },
  {
   "cell_type": "markdown",
   "metadata": {},
   "source": [
    "The separator between the arguments to print() function in Python is space by default (softspace feature) , which can be modified and can be made to any character, integer or string as per our choice. "
   ]
  },
  {
   "cell_type": "code",
   "execution_count": 16,
   "metadata": {},
   "outputs": [
    {
     "name": "stdout",
     "output_type": "stream",
     "text": [
      "abc\n"
     ]
    }
   ],
   "source": [
    "#code for disabling the softspace feature \n",
    "print('a','b','c', sep='') \n",
    "  \n"
   ]
  },
  {
   "cell_type": "code",
   "execution_count": 17,
   "metadata": {},
   "outputs": [
    {
     "name": "stdout",
     "output_type": "stream",
     "text": [
      "09-12-2016\n"
     ]
    }
   ],
   "source": [
    "#for formatting a date \n",
    "print('09','12','2016', sep='-') \n",
    "  \n"
   ]
  },
  {
   "cell_type": "code",
   "execution_count": 19,
   "metadata": {},
   "outputs": [
    {
     "name": "stdout",
     "output_type": "stream",
     "text": [
      "kunal@codingshastra\n"
     ]
    }
   ],
   "source": [
    "#another example \n",
    "print('kunal','codingshastra', sep='@') "
   ]
  },
  {
   "cell_type": "markdown",
   "metadata": {},
   "source": [
    "##  Output Formatting \n",
    "\n",
    "#### Formatting output using format method :\n",
    "This method lets us concatenate elements within an output through positional formatting.\n",
    "READ THE FOLLOWING CODE SNIPPETRS VERY CAREFULLY."
   ]
  },
  {
   "cell_type": "code",
   "execution_count": 22,
   "metadata": {},
   "outputs": [
    {
     "name": "stdout",
     "output_type": "stream",
     "text": [
      "I love Python and Javascript!\n"
     ]
    }
   ],
   "source": [
    "#using format() method \n",
    "print('I love {} and {}!'.format('Python', 'Javascript'))"
   ]
  },
  {
   "cell_type": "code",
   "execution_count": 24,
   "metadata": {},
   "outputs": [
    {
     "name": "stdout",
     "output_type": "stream",
     "text": [
      "Python and JS\n"
     ]
    }
   ],
   "source": [
    "#using format() method and refering  \n",
    "# a position of the object \n",
    "print('{0} and {1}'.format('Python', 'JS')) "
   ]
  },
  {
   "cell_type": "code",
   "execution_count": 27,
   "metadata": {},
   "outputs": [
    {
     "name": "stdout",
     "output_type": "stream",
     "text": [
      "I learn Python at Coding Shastra, and Hackerrank.\n"
     ]
    }
   ],
   "source": [
    "#combining positional and keyword arguments \n",
    "print('I learn Python at {0} {1}, and {other}.'.format('Coding', 'Shastra', other ='Hackerrank')) "
   ]
  },
  {
   "cell_type": "markdown",
   "metadata": {},
   "source": [
    "format() is also used in dictionaries which will be discussed later ."
   ]
  },
  {
   "cell_type": "code",
   "execution_count": null,
   "metadata": {},
   "outputs": [],
   "source": []
  }
 ],
 "metadata": {
  "kernelspec": {
   "display_name": "Python 3",
   "language": "python",
   "name": "python3"
  },
  "language_info": {
   "codemirror_mode": {
    "name": "ipython",
    "version": 3
   },
   "file_extension": ".py",
   "mimetype": "text/x-python",
   "name": "python",
   "nbconvert_exporter": "python",
   "pygments_lexer": "ipython3",
   "version": "3.7.3"
  }
 },
 "nbformat": 4,
 "nbformat_minor": 2
}
