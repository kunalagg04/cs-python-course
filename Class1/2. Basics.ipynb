{
 "cells": [
  {
   "cell_type": "markdown",
   "metadata": {},
   "source": [
    "# Keywords\n",
    "\n",
    "Python has a set of keywords that are reserved words that cannot be used as variable names, function names, or any other identifiers!\n",
    "There are 33 keywords in Python.\n",
    "keyword is a library which is used to check whether a string is a keyword or not."
   ]
  },
  {
   "cell_type": "code",
   "execution_count": 1,
   "metadata": {},
   "outputs": [
    {
     "name": "stdout",
     "output_type": "stream",
     "text": [
      "for is a python keyword\n"
     ]
    }
   ],
   "source": [
    "import keyword\n",
    "s = \"for\"\n",
    "if keyword.iskeyword(s): \n",
    "        print ( s + \" is a python keyword\") \n",
    "else :  print ( s + \" is not a python keyword\") \n"
   ]
  },
  {
   "cell_type": "markdown",
   "metadata": {},
   "source": [
    "### kwlist method is used to display list of all keywords in python !"
   ]
  },
  {
   "cell_type": "code",
   "execution_count": 2,
   "metadata": {},
   "outputs": [
    {
     "name": "stdout",
     "output_type": "stream",
     "text": [
      "['False', 'None', 'True', 'and', 'as', 'assert', 'async', 'await', 'break', 'class', 'continue', 'def', 'del', 'elif', 'else', 'except', 'finally', 'for', 'from', 'global', 'if', 'import', 'in', 'is', 'lambda', 'nonlocal', 'not', 'or', 'pass', 'raise', 'return', 'try', 'while', 'with', 'yield']\n"
     ]
    }
   ],
   "source": [
    "print (keyword.kwlist) "
   ]
  },
  {
   "cell_type": "markdown",
   "metadata": {},
   "source": [
    "# Commenting\n",
    "\n",
    "When writing code, it’s important to make sure that your code can be easily understood by others. Giving variables obvious names, defining explicit functions, and organizing your code are all great ways to do this.\n",
    "### Another awesome and easy way to increase the readability of your code is by using comments!\n",
    "Comments in Python start with the hash character, # , and extend to the end of the physical line.\n",
    "A comment may appear at the start of a line or following whitespace or code, but not within a string literal.\n",
    "A hash character within a string literal is just a hash character."
   ]
  },
  {
   "cell_type": "code",
   "execution_count": 3,
   "metadata": {},
   "outputs": [
    {
     "name": "stdout",
     "output_type": "stream",
     "text": [
      "Coding Shastras\n"
     ]
    }
   ],
   "source": [
    "# This is a comment \n",
    "# Print “Coding Shastras !” to console \n",
    "print(\"Coding Shastras\") "
   ]
  },
  {
   "cell_type": "markdown",
   "metadata": {},
   "source": [
    "### Multi-line string as comment : Python multi-line comment is a piece of text enclosed in a delimiter (\"\"\") on each end of the comment."
   ]
  },
  {
   "cell_type": "code",
   "execution_count": 5,
   "metadata": {},
   "outputs": [
    {
     "name": "stdout",
     "output_type": "stream",
     "text": [
      "Coding Shastra\n"
     ]
    }
   ],
   "source": [
    "\"\"\" \n",
    "This is a multi line comment.\n",
    "It is used when comment extends more than a line.\n",
    "\"\"\"\n",
    "print(\"Coding Shastra\")"
   ]
  },
  {
   "cell_type": "markdown",
   "metadata": {},
   "source": [
    "# Indentation\n",
    "A block is a combination of all the statements.\n",
    "Block can be regarded as the grouping of statements for a specific purpose.\n",
    "Most of the programming languages like C, C++, Java use braces { } to define a block of code.\n",
    "### Python is its use of indentation to highlight the blocks of code. Whitespace is used for indentation in Python. All statements with the same distance to the right belong to the same block of code. \n",
    "If a block has to be more deeply nested, it is simply indented further to the right"
   ]
  },
  {
   "cell_type": "code",
   "execution_count": 7,
   "metadata": {},
   "outputs": [
    {
     "name": "stdout",
     "output_type": "stream",
     "text": [
      "You are bad\n"
     ]
    }
   ],
   "source": [
    "a = 8\n",
    "#the white space between print statement under if and else and left border is used for indentation.\n",
    "if a>9: \n",
    "    print('You are excellent') \n",
    "else: \n",
    "    print('You are bad') \n"
   ]
  },
  {
   "cell_type": "markdown",
   "metadata": {},
   "source": [
    "### Note : Using whitespace unnecessarily gives indentation error. "
   ]
  },
  {
   "cell_type": "code",
   "execution_count": 12,
   "metadata": {},
   "outputs": [
    {
     "ename": "IndentationError",
     "evalue": "unexpected indent (<ipython-input-12-d8bb1e6ae99b>, line 2)",
     "output_type": "error",
     "traceback": [
      "\u001b[1;36m  File \u001b[1;32m\"<ipython-input-12-d8bb1e6ae99b>\"\u001b[1;36m, line \u001b[1;32m2\u001b[0m\n\u001b[1;33m    b=50\u001b[0m\n\u001b[1;37m    ^\u001b[0m\n\u001b[1;31mIndentationError\u001b[0m\u001b[1;31m:\u001b[0m unexpected indent\n"
     ]
    }
   ],
   "source": [
    "a=10\n",
    " b=50\n",
    "#here there is a unnecessary whitespace in second statement.\n",
    "#both statements should be having same indent.\n",
    "#All statements with the same distance to the right belong to the same block of code\n",
    "    "
   ]
  },
  {
   "cell_type": "markdown",
   "metadata": {},
   "source": [
    "# Assigning values to variables in Python \n",
    "\n",
    "## Direct Initialisation\n",
    "    "
   ]
  },
  {
   "cell_type": "code",
   "execution_count": 11,
   "metadata": {},
   "outputs": [
    {
     "name": "stdout",
     "output_type": "stream",
     "text": [
      "5\n"
     ]
    }
   ],
   "source": [
    "# initialising variable directly \n",
    "a = 5\n",
    "  \n",
    "# printing value of a \n",
    "print (a) "
   ]
  },
  {
   "cell_type": "markdown",
   "metadata": {},
   "source": [
    "### Since , Python is a dynamically typed language we don't need to know announce that a is storing what type of a variable.\n",
    "It can be int , string , float .\n",
    "It has no type errors."
   ]
  },
  {
   "cell_type": "code",
   "execution_count": null,
   "metadata": {},
   "outputs": [],
   "source": []
  }
 ],
 "metadata": {
  "kernelspec": {
   "display_name": "Python 3",
   "language": "python",
   "name": "python3"
  },
  "language_info": {
   "codemirror_mode": {
    "name": "ipython",
    "version": 3
   },
   "file_extension": ".py",
   "mimetype": "text/x-python",
   "name": "python",
   "nbconvert_exporter": "python",
   "pygments_lexer": "ipython3",
   "version": "3.7.3"
  }
 },
 "nbformat": 4,
 "nbformat_minor": 2
}
