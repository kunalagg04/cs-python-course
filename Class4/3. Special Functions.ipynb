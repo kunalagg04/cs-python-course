{
 "cells": [
  {
   "cell_type": "markdown",
   "metadata": {},
   "source": [
    "## Python lambda (Anonymous Functions)\n",
    "\n",
    "#### This function can have any number of arguments but only one expression, which is evaluated and returned.\n",
    "#### One is free to use lambda functions wherever function objects are required.\n",
    "#### You need to keep in your knowledge that lambda functions are syntactically restricted to a single expression.\n",
    "#### It has various uses in particular fields of programming besides other types of expressions in functions."
   ]
  },
  {
   "cell_type": "code",
   "execution_count": 2,
   "metadata": {},
   "outputs": [
    {
     "data": {
      "text/plain": [
       "8"
      ]
     },
     "execution_count": 2,
     "metadata": {},
     "output_type": "execute_result"
    }
   ],
   "source": [
    "# Python code to illustrate cube of a number  \n",
    "# showing difference between def() and lambda(). \n",
    "def cube(y): \n",
    "    return y*y*y; \n",
    "cube(2)\n"
   ]
  },
  {
   "cell_type": "code",
   "execution_count": 3,
   "metadata": {},
   "outputs": [
    {
     "data": {
      "text/plain": [
       "343"
      ]
     },
     "execution_count": 3,
     "metadata": {},
     "output_type": "execute_result"
    }
   ],
   "source": [
    "g = lambda x: x*x*x \n",
    "g(7)"
   ]
  },
  {
   "cell_type": "markdown",
   "metadata": {},
   "source": [
    "## filter() \n",
    "The filter() method filters the given sequence with the help of a function that tests each element in the sequence to be true or not."
   ]
  },
  {
   "cell_type": "markdown",
   "metadata": {},
   "source": [
    "#### filter(function, sequence)\n",
    "Parameters:\n",
    "#### 1. function: function that tests if each element of a \n",
    "sequence true or not.\n",
    "#### 2. sequence: sequence which needs to be filtered, it can \n",
    "be sets, lists, tuples, or containers of any iterators.\n",
    "#### 3. Returns:\n",
    "returns an iterator that is already filtered."
   ]
  },
  {
   "cell_type": "code",
   "execution_count": 4,
   "metadata": {},
   "outputs": [
    {
     "name": "stdout",
     "output_type": "stream",
     "text": [
      "The filtered letters are:\n",
      "o\n",
      "i\n"
     ]
    }
   ],
   "source": [
    "# function that filters vowels \n",
    "def fun(variable): \n",
    "    letters = ['a', 'e', 'i', 'o', 'u'] \n",
    "    if (variable in letters): \n",
    "        return True\n",
    "    else: \n",
    "        return False\n",
    "  \n",
    "  \n",
    "# sequence \n",
    "sequence = ['c', 'o', 'd', 'i', 'n', 'g', 'h', 'l'] \n",
    "  \n",
    "# using filter function \n",
    "filtered = filter(fun, sequence) \n",
    "  \n",
    "print('The filtered letters are:') \n",
    "for s in filtered: \n",
    "    print(s) "
   ]
  },
  {
   "cell_type": "markdown",
   "metadata": {},
   "source": [
    "## Use of lambda() with filter()\n",
    "The filter() function in Python takes in a function and a list as arguments. This offers an elegant way to filter out all the elements of a sequence “sequence”, for which the function returns True. Here is a small program that returns the odd numbers from an input list:"
   ]
  },
  {
   "cell_type": "code",
   "execution_count": 9,
   "metadata": {},
   "outputs": [
    {
     "name": "stdout",
     "output_type": "stream",
     "text": [
      "[5, 7, 97, 77, 23, 73, 61]\n"
     ]
    }
   ],
   "source": [
    "# Python code to illustrate \n",
    "# filter() with lambda() \n",
    "li = [5, 7, 22, 97, 54, 62, 77, 23, 73, 61] \n",
    "final_list = list(filter(lambda x: (x%2 != 0) , li)) \n",
    "print(final_list)"
   ]
  },
  {
   "cell_type": "markdown",
   "metadata": {},
   "source": [
    "## map() function\n",
    "map() function returns a list of the results after applying the given function to each item of a given iterable (list, tuple etc.)\n",
    "\n",
    "### Parameters :\n",
    "\n",
    "#### 1. fun : It is a function to which map passes each element of given iterable.\n",
    "#### 2. iter : It is a iterable which is to be mapped."
   ]
  },
  {
   "cell_type": "code",
   "execution_count": 5,
   "metadata": {},
   "outputs": [
    {
     "name": "stdout",
     "output_type": "stream",
     "text": [
      "[2, 4, 6, 8]\n"
     ]
    }
   ],
   "source": [
    "# Python program to demonstrate working \n",
    "# of map. \n",
    "  \n",
    "# Return double of n \n",
    "def addition(n): \n",
    "    return n + n \n",
    "  \n",
    "# We double all numbers using map() \n",
    "numbers = (1, 2, 3, 4) \n",
    "result = map(addition, numbers) \n",
    "print(list(result)) "
   ]
  },
  {
   "cell_type": "markdown",
   "metadata": {},
   "source": [
    "## Use of lambda() with map()\n",
    "The map() function in Python takes in a function and a list as argument. The function is called with a lambda function and a list and a new list is returned which contains all the lambda modified items returned by that function for each item. Example:"
   ]
  },
  {
   "cell_type": "code",
   "execution_count": 8,
   "metadata": {},
   "outputs": [
    {
     "name": "stdout",
     "output_type": "stream",
     "text": [
      "[10, 14, 44, 194, 108, 124, 154, 46, 146, 122]\n"
     ]
    }
   ],
   "source": [
    "# Python code to illustrate  \n",
    "# map() with lambda()  \n",
    "# to get double of a list. \n",
    "li = [5, 7, 22, 97, 54, 62, 77, 23, 73, 61] \n",
    "final_list = (map(lambda x: x*2 , li)) \n",
    "print(list(final_list)) "
   ]
  },
  {
   "cell_type": "code",
   "execution_count": null,
   "metadata": {},
   "outputs": [],
   "source": []
  }
 ],
 "metadata": {
  "kernelspec": {
   "display_name": "Python 3",
   "language": "python",
   "name": "python3"
  },
  "language_info": {
   "codemirror_mode": {
    "name": "ipython",
    "version": 3
   },
   "file_extension": ".py",
   "mimetype": "text/x-python",
   "name": "python",
   "nbconvert_exporter": "python",
   "pygments_lexer": "ipython3",
   "version": "3.7.3"
  }
 },
 "nbformat": 4,
 "nbformat_minor": 2
}
